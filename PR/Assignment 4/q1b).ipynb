{
  "nbformat": 4,
  "nbformat_minor": 0,
  "metadata": {
    "colab": {
      "name": "PR_Assignment_4_q1.ipynb",
      "provenance": []
    },
    "kernelspec": {
      "name": "python3",
      "display_name": "Python 3"
    }
  },
  "cells": [
    {
      "cell_type": "code",
      "metadata": {
        "id": "q9HiprCdkF1y",
        "colab_type": "code",
        "colab": {}
      },
      "source": [
        "from random import seed\n",
        "from random import random\n",
        "from math import exp\n",
        "import matplotlib.pyplot as plt\n",
        "import numpy as np"
      ],
      "execution_count": 1,
      "outputs": []
    },
    {
      "cell_type": "code",
      "metadata": {
        "id": "UYU9HJKpkIcG",
        "colab_type": "code",
        "colab": {}
      },
      "source": [
        "def initialize_network(n_inputs, n_hidden, n_outputs):\n",
        "\tnetwork = list()\n",
        "\thidden_layer = [{'weights':[0.1, 0.2, 0.3]}, {'weights':[0.1, 0.2, 0.3]}]\n",
        "\tnetwork.append(hidden_layer)\n",
        "\toutput_layer = [{'weights':[0.2, 0.1, 0.5]}, {'weights':[0.2, 0.1, 0.4]}]\n",
        "\tnetwork.append(output_layer)\n",
        "\treturn network"
      ],
      "execution_count": 2,
      "outputs": []
    },
    {
      "cell_type": "code",
      "metadata": {
        "id": "-FbF0QzlkMtU",
        "colab_type": "code",
        "colab": {}
      },
      "source": [
        "def activate(weights, inputs):\n",
        "\tactivation = weights[-1]\n",
        "\tfor i in range(len(weights)-1):\n",
        "\t\tactivation += weights[i] * inputs[i]\n",
        "\treturn activation"
      ],
      "execution_count": 3,
      "outputs": []
    },
    {
      "cell_type": "code",
      "metadata": {
        "id": "Hd2-wUEdkPR7",
        "colab_type": "code",
        "colab": {}
      },
      "source": [
        "def transfer(activation):\n",
        "\treturn (exp(activation) - exp(-activation)) / (exp(activation) + exp(-activation))"
      ],
      "execution_count": 4,
      "outputs": []
    },
    {
      "cell_type": "code",
      "metadata": {
        "id": "2Qj2znDHkRcr",
        "colab_type": "code",
        "colab": {}
      },
      "source": [
        "def forward_propagate(network, row):\n",
        "\tinputs = row\n",
        "\tfor layer in network:\n",
        "\t\tnew_inputs = []\n",
        "\t\tfor neuron in layer:\n",
        "\t\t\tactivation = activate(neuron['weights'], inputs)\n",
        "\t\t\tneuron['output'] = transfer(activation)\n",
        "\t\t\tnew_inputs.append(neuron['output'])\n",
        "\t\tinputs = new_inputs\n",
        "\treturn inputs"
      ],
      "execution_count": 5,
      "outputs": []
    },
    {
      "cell_type": "code",
      "metadata": {
        "id": "1jItm3K9kTYs",
        "colab_type": "code",
        "colab": {}
      },
      "source": [
        "def transfer_derivative(output):\n",
        "\treturn (1.0 - output ** 2)"
      ],
      "execution_count": 6,
      "outputs": []
    },
    {
      "cell_type": "code",
      "metadata": {
        "id": "n0ud-Z5FkVus",
        "colab_type": "code",
        "colab": {}
      },
      "source": [
        "def backward_propagate_error(network, expected):\n",
        "\tfor i in reversed(range(len(network))):\n",
        "\t\tlayer = network[i]\n",
        "\t\terrors = list()\n",
        "\t\tif i != len(network)-1:\n",
        "\t\t\tfor j in range(len(layer)):\n",
        "\t\t\t\terror = 0.0\n",
        "\t\t\t\tfor neuron in network[i + 1]:\n",
        "\t\t\t\t\terror += (neuron['weights'][j] * neuron['delta'])\n",
        "\t\t\t\terrors.append(error)\n",
        "\t\telse:\n",
        "\t\t\tfor j in range(len(layer)):\n",
        "\t\t\t\tneuron = layer[j]\n",
        "\t\t\t\terrors.append(expected[j] - neuron['output'])\n",
        "\t\tfor j in range(len(layer)):\n",
        "\t\t\tneuron = layer[j]\n",
        "\t\t\tneuron['delta'] = errors[j] * transfer_derivative(neuron['output'])\n"
      ],
      "execution_count": 7,
      "outputs": []
    },
    {
      "cell_type": "code",
      "metadata": {
        "id": "QUxJ6LhwkZFD",
        "colab_type": "code",
        "colab": {}
      },
      "source": [
        "def update_weights(network, row, l_rate):\n",
        "\tfor i in range(len(network)):\n",
        "\t\tinputs = row[:-1]\n",
        "\t\tif i != 0:\n",
        "\t\t\tinputs = [neuron['output'] for neuron in network[i - 1]]\n",
        "\t\tfor neuron in network[i]:\n",
        "\t\t\tfor j in range(len(inputs)):\n",
        "\t\t\t\tneuron['weights'][j] += l_rate * neuron['delta'] * inputs[j]\n",
        "\t\t\tneuron['weights'][-1] += l_rate * neuron['delta']"
      ],
      "execution_count": 8,
      "outputs": []
    },
    {
      "cell_type": "code",
      "metadata": {
        "id": "JhGdJ1GNka-0",
        "colab_type": "code",
        "colab": {}
      },
      "source": [
        "def train_network(network, train, l_rate, n_epoch, n_outputs):\n",
        "\tfor epoch in range(n_epoch):\n",
        "\t\tsum_error = 0\n",
        "\t\tif(epoch > 50000):\n",
        "\t\t\tl_rate = 1/epoch * 100\n",
        "\t\tfor row in train:\n",
        "\t\t\toutputs = forward_propagate(network, row)\n",
        "\t\t\texpected = [0 for i in range(n_outputs)]\n",
        "\t\t\texpected[int(row[-1])] = 1\n",
        "\t\t\tsum_error += sum([(expected[i]-outputs[i])**2 for i in range(len(expected))])\n",
        "\t\t\tbackward_propagate_error(network, expected)\n",
        "\t\t\tupdate_weights(network, row, l_rate)\n",
        "\t\tif(epoch % 100 == 0):\n",
        "\t  \t\tprint('>epoch=%d, lrate=%.3f, error=%.3f' % (epoch, l_rate, sum_error))"
      ],
      "execution_count": 9,
      "outputs": []
    },
    {
      "cell_type": "code",
      "metadata": {
        "id": "AcOHw_sjkdOi",
        "colab_type": "code",
        "colab": {}
      },
      "source": [
        "def predict(network, row):\n",
        "\toutputs = forward_propagate(network, row)\n",
        "\treturn outputs.index(max(outputs))"
      ],
      "execution_count": 10,
      "outputs": []
    },
    {
      "cell_type": "code",
      "metadata": {
        "id": "1IhHNPgDkfCz",
        "colab_type": "code",
        "colab": {
          "base_uri": "https://localhost:8080/",
          "height": 700
        },
        "outputId": "37ba9754-a3f4-41f3-e72c-6ec518d242cb"
      },
      "source": [
        "#As no dataset was given, I took a data set from previous assignment and trained the nueral network\n",
        "w1 = np.array([[2, 2, 0], [-1, 2, 0], [1, 3, 0], [-1, -1, 0], [0.5, 0.5, 0]])\n",
        "w2 = np.array([[-1, -3, 1], [0, -1, 1], [1, -2, 1], [-1, -2, 1], [0, -2, 1]])\n",
        "dataset = np.concatenate([w1, w2], axis = 0)\n",
        "w1 = np.array([[2, 2], [-1, 2], [1, 3], [-1, -1], [0.5, 0.5]])\n",
        "w2 = np.array([[-1, -3], [0, -1], [1, -2], [-1, -2], [0, -2]])\n",
        "f, ax = plt.subplots(figsize=(7, 7))\n",
        "c1, c2, c3 = 'b', 'r', 'm'\n",
        "\n",
        "ax.scatter(*w1.T, c=c1,s = 10, label = \"w1\")\n",
        "ax.legend()\n",
        "ax.scatter(*w2.T, c=c2, s = 10, label = \"w2\")\n",
        "ax.legend()\n",
        "\n",
        "n_inputs = len(dataset[0]) - 1\n",
        "n_outputs = len(set([row[-1] for row in dataset]))\n",
        "network = initialize_network(n_inputs, 1, n_outputs)\n",
        "print(network)\n",
        "train_network(network, dataset, 0.1, 1000, n_outputs)\n",
        "print(network)\n",
        "x = np.arange(-3.5, 3.5, 0.1)\n",
        "y = np.arange(-3.5, 3.5, 0.1)\n",
        "print(predict(network, [0.1, 0.2]))\n",
        "for layer in network:\n",
        "\tprint(layer)\n",
        "\n",
        "for i in range(len(x)):\n",
        "\tfor j in range(len(y)):\n",
        "\t\tpt = [x[i], y[j]]\n",
        "\t\tif(predict(network, pt) == 0):\n",
        "\t\t\tc = 'r'\n",
        "\t\telse:\n",
        "\t\t\tc = 'b'\n",
        "\t\tax.scatter(x[i], y[j], c = c, s = 1)\n",
        "\n",
        "\n",
        "\n",
        "plt.show()\n"
      ],
      "execution_count": 11,
      "outputs": [
        {
          "output_type": "stream",
          "text": [
            "[[{'weights': [0.1, 0.2, 0.3]}, {'weights': [0.1, 0.2, 0.3]}], [{'weights': [0.2, 0.1, 0.5]}, {'weights': [0.2, 0.1, 0.4]}]]\n",
            ">epoch=0, lrate=0.100, error=4.949\n",
            ">epoch=100, lrate=0.100, error=0.322\n",
            ">epoch=200, lrate=0.100, error=0.087\n",
            ">epoch=300, lrate=0.100, error=0.050\n",
            ">epoch=400, lrate=0.100, error=0.035\n",
            ">epoch=500, lrate=0.100, error=0.027\n",
            ">epoch=600, lrate=0.100, error=0.022\n",
            ">epoch=700, lrate=0.100, error=0.018\n",
            ">epoch=800, lrate=0.100, error=0.015\n",
            ">epoch=900, lrate=0.100, error=0.013\n",
            "[[{'weights': [-1.417457417419993, 1.6584789785868526, -0.1934273486840623], 'output': -0.9982154189767177, 'delta': 5.549215671156203e-05}, {'weights': [-2.4933309694733152, 2.622095064421717, 0.7765564619829767], 'output': -0.9997367137473195, 'delta': 1.689949157552232e-05}], [{'weights': [0.48886806504695524, 1.0513478494222745, 1.517199509445146], 'output': -0.031193133173931544, 'delta': 0.03116278189484782}, {'weights': [0.5289161954436004, -1.7524586726047116, 1.225400747162818], 'output': 0.985196224028674, 'delta': 0.00043505929211903166}]]\n",
            "0\n",
            "[{'weights': [-1.417457417419993, 1.6584789785868526, -0.1934273486840623], 'output': -0.003477280693431557, 'delta': 5.549215671156203e-05}, {'weights': [-2.4933309694733152, 2.622095064421717, 0.7765564619829767], 'output': 0.7824440599602815, 'delta': 1.689949157552232e-05}]\n",
            "[{'weights': [0.48886806504695524, 1.0513478494222745, 1.517199509445146], 'output': 0.9815439783949779, 'delta': 0.03116278189484782}, {'weights': [0.5289161954436004, -1.7524586726047116, 1.225400747162818], 'output': -0.1465758765067498, 'delta': 0.00043505929211903166}]\n"
          ],
          "name": "stdout"
        },
        {
          "output_type": "display_data",
          "data": {
            "image/png": "[encoded data removed]",
            "text/plain": [
              "<Figure size 504x504 with 1 Axes>"
            ]
          },
          "metadata": {
            "tags": [],
            "needs_background": "light"
          }
        }
      ]
    },
    {
      "cell_type": "code",
      "metadata": {
        "id": "Y_ine8S2k0j6",
        "colab_type": "code",
        "colab": {}
      },
      "source": [
        ""
      ],
      "execution_count": null,
      "outputs": []
    }
  ]
}